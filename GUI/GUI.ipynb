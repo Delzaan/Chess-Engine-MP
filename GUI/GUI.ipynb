{
 "cells": [
  {
   "cell_type": "code",
   "execution_count": 1,
   "metadata": {},
   "outputs": [
    {
     "name": "stdout",
     "output_type": "stream",
     "text": [
      "pygame 2.5.2 (SDL 2.28.3, Python 3.10.9)\n",
      "Hello from the pygame community. https://www.pygame.org/contribute.html\n"
     ]
    }
   ],
   "source": [
    "import pygame"
   ]
  },
  {
   "cell_type": "code",
   "execution_count": 2,
   "metadata": {
    "scrolled": true
   },
   "outputs": [
    {
     "name": "stdout",
     "output_type": "stream",
     "text": [
      "100\n"
     ]
    },
    {
     "ename": "SystemExit",
     "evalue": "",
     "output_type": "error",
     "traceback": [
      "An exception has occurred, use %tb to see the full traceback.\n",
      "\u001b[1;31mSystemExit\u001b[0m\n"
     ]
    },
    {
     "name": "stderr",
     "output_type": "stream",
     "text": [
      "C:\\Users\\syber\\anaconda3\\lib\\site-packages\\IPython\\core\\interactiveshell.py:3468: UserWarning: To exit: use 'exit', 'quit', or Ctrl-D.\n",
      "  warn(\"To exit: use 'exit', 'quit', or Ctrl-D.\", stacklevel=1)\n"
     ]
    }
   ],
   "source": [
    "import pygame\n",
    "import sys\n",
    "import chess\n",
    "\n",
    "\n",
    "WIDTH = 800\n",
    "WIN = pygame.display.set_mode((WIDTH, WIDTH))\n",
    "pygame.display.set_caption(\"Chess\")\n",
    "\n",
    "\n",
    "PEACH = (240, 217, 181)\n",
    "BROWN = (189, 129, 79)\n",
    "YELLOW = (255, 232, 128)\n",
    "BLACK = (0, 0, 0)\n",
    "\n",
    "#load piece images\n",
    "pieces = {'p': pygame.image.load('b_pawn.png'),\n",
    "          'n': pygame.image.load('b_knight.png'),\n",
    "          'b': pygame.image.load('b_bishop.png'),\n",
    "          'r': pygame.image.load('b_rook.png'),\n",
    "          'q': pygame.image.load('b_queen.png'),\n",
    "          'k': pygame.image.load('b_king.png'),\n",
    "          'P': pygame.image.load('w_pawn.png'),\n",
    "          'N': pygame.image.load('w_knight.png'),\n",
    "          'B': pygame.image.load('w_bishop.png'),\n",
    "          'R': pygame.image.load('w_rook.png'),\n",
    "          'Q': pygame.image.load('w_queen.png'),\n",
    "          'K': pygame.image.load('w_king.png'),\n",
    "          }\n",
    "\n",
    "convert = {}\n",
    "alphabets = [\"a\",\"b\",\"c\",\"d\",\"e\",\"f\",\"g\",\"h\"]\n",
    "for i in range(0,8):\n",
    "    for j in range(0,8):\n",
    "        convert.update({str(j)+str(i) : alphabets[j]+str(8-i)})\n",
    "\n",
    "convert2 = {value:key for key, value in convert.items()}\n",
    "\n",
    "def convert_sq_num(row,col):\n",
    "    return chess.parse_square(convert[str(row) + str(col)])\n",
    "\n",
    "class Node:\n",
    "    def __init__(self, row, col, width):\n",
    "        self.row = row\n",
    "        self.col = col\n",
    "        self.x = int(row * width)\n",
    "        self.y = int(col * width)\n",
    "        self.colour = PEACH\n",
    "        self.occupied = None\n",
    "\n",
    "    def draw(self, WIN):\n",
    "        pygame.draw.rect(WIN, self.colour, (self.x, self.y, WIDTH / 8, WIDTH / 8))\n",
    "    def draw_piece(self,WIN,piece):\n",
    "        WIN.blit(pieces[str(piece)],(self.x,self.y, WIDTH / 8, WIDTH / 8))\n",
    "\n",
    "def make_grid(rows, width):\n",
    "    grid = []\n",
    "    gap = WIDTH // rows\n",
    "    print(gap)\n",
    "    for i in range(0, rows):\n",
    "        grid.append([])\n",
    "        for j in range(0, rows):\n",
    "            node = Node(j, i, gap)\n",
    "            grid[i].append(node)\n",
    "            if (i+j)%2 ==1:\n",
    "                grid[i][j].colour = BROWN\n",
    "    return grid\n",
    "\n",
    "def draw_grid(win, rows, width):\n",
    "    gap = width // 8\n",
    "    for i in range(rows):\n",
    "        pygame.draw.line(win, BLACK, (0, i * gap), (width, i * gap))\n",
    "        for j in range(rows):\n",
    "            pygame.draw.line(win, BLACK, (j * gap, 0), (j * gap, width))  \n",
    "\n",
    "def update_display(win, grid, rows, width):\n",
    "\n",
    "    for row in grid:\n",
    "        for spot in row:\n",
    "            spot.draw(win)\n",
    "            piece = board.piece_at(convert_sq_num(spot.row,spot.col))\n",
    "            if piece == None:\n",
    "                pass\n",
    "            else:\n",
    "                spot.draw_piece(WIN,piece)\n",
    "\n",
    "def Find_Node(pos, WIDTH):\n",
    "    interval = WIDTH / 8\n",
    "    y, x = pos\n",
    "    rows = y // interval\n",
    "    columns = x // interval\n",
    "    return int(rows), int(columns)\n",
    "\n",
    "def display_potential_moves(positions, grid):\n",
    "    \"\"\"\n",
    "    Displays all the potential moves\n",
    "    \"\"\"\n",
    "    for i in positions:\n",
    "\n",
    "        col = int(convert2[i.uci()[2]+i.uci()[3]][0])\n",
    "        row = int(convert2[i.uci()[2]+i.uci()[3]][1])\n",
    "        grid[row][col].colour = YELLOW\n",
    "\n",
    "def remove_highlight(grid):\n",
    "    for i in range(len(grid)):\n",
    "        for j in range(len(grid[0])):\n",
    "            if (i+j)%2 == 0:\n",
    "                grid[i][j].colour = PEACH\n",
    "            else:\n",
    "                grid[i][j].colour = BROWN\n",
    "    return grid\n",
    "\n",
    "board = chess.Board()\n",
    "running = True\n",
    "selected = False\n",
    "status = True\n",
    "\n",
    "grid = make_grid(8,WIDTH)\n",
    "update_display(WIN, grid, 8, WIDTH)\n",
    "draw_grid(WIN,8,WIDTH)\n",
    "pygame.display.update()\n",
    "\n",
    "while running:\n",
    "    pygame.time.delay(50)\n",
    "    for event in pygame.event.get():\n",
    "        if event.type == pygame.QUIT:\n",
    "            pygame.quit()\n",
    "            sys.exit()\n",
    "        if status == True:\n",
    "            if board.outcome() != None:\n",
    "                print(board.outcome())\n",
    "                status = False\n",
    "\n",
    "            if selected == False:\n",
    "                remove_highlight(grid)\n",
    "                update_display(WIN, grid, 8, WIDTH)\n",
    "                draw_grid(WIN,8,WIDTH)\n",
    "                pygame.display.update()\n",
    "            \n",
    "            if event.type == pygame.MOUSEBUTTONDOWN:\n",
    "                pos = pygame.mouse.get_pos()\n",
    "                row, col = Find_Node(pos, WIDTH)\n",
    "                sq_num = convert_sq_num(row,col)\n",
    "\n",
    "                if selected == False:\n",
    "                    remove_highlight(grid)\n",
    "                    if board.piece_at(sq_num) != None:\n",
    "\n",
    "                        legal_positions = []\n",
    "\n",
    "                        for m in board.legal_moves:\n",
    "                            if sq_num == m.from_square:\n",
    "                                legal_positions.append(m)\n",
    "\n",
    "                        display_potential_moves(legal_positions,grid)\n",
    "                        update_display(WIN, grid, 8, WIDTH)\n",
    "                        draw_grid(WIN,8,WIDTH)\n",
    "                        selected_sq = (row,col)\n",
    "                        selected = True\n",
    "\n",
    "                elif selected == True:\n",
    "\n",
    "                    sel_sq_num = convert_sq_num(selected_sq[0],selected_sq[1])\n",
    "                    \n",
    "                    for m in legal_positions:\n",
    "                        # Or condition is for te special move of castling\n",
    "                        if (sel_sq_num == m.from_square and sq_num == m.to_square) or (m.uci() in [\"e1g1\",\"e1c1\",\"e8g8\",\"e8c8\"]):\n",
    "                            board.push(m)\n",
    "                            update_display(WIN, grid, 8, WIDTH)\n",
    "                            draw_grid(WIN,8,WIDTH)\n",
    "                            selected = False\n",
    "                            break\n",
    "                    else:\n",
    "                        selected = False\n",
    "\n",
    "            pygame.display.update()"
   ]
  },
  {
   "cell_type": "code",
   "execution_count": null,
   "metadata": {},
   "outputs": [],
   "source": [
    "import chess\n",
    "board = chess.Board()"
   ]
  },
  {
   "cell_type": "code",
   "execution_count": null,
   "metadata": {},
   "outputs": [],
   "source": [
    "board"
   ]
  },
  {
   "cell_type": "code",
   "execution_count": null,
   "metadata": {},
   "outputs": [],
   "source": [
    "board.push_uci(\"e8h8\")"
   ]
  },
  {
   "cell_type": "code",
   "execution_count": null,
   "metadata": {},
   "outputs": [],
   "source": [
    "board.pop()"
   ]
  },
  {
   "cell_type": "code",
   "execution_count": null,
   "metadata": {},
   "outputs": [],
   "source": []
  },
  {
   "cell_type": "code",
   "execution_count": null,
   "metadata": {},
   "outputs": [],
   "source": []
  },
  {
   "cell_type": "code",
   "execution_count": null,
   "metadata": {},
   "outputs": [],
   "source": [
    "board.turn = True"
   ]
  },
  {
   "cell_type": "code",
   "execution_count": null,
   "metadata": {},
   "outputs": [],
   "source": [
    "board.turn"
   ]
  },
  {
   "cell_type": "code",
   "execution_count": null,
   "metadata": {},
   "outputs": [],
   "source": []
  },
  {
   "cell_type": "code",
   "execution_count": null,
   "metadata": {},
   "outputs": [],
   "source": [
    "board = board.transform(chess.flip_vertical)\n",
    "board = board.transform(chess.flip_horizontal)"
   ]
  },
  {
   "cell_type": "code",
   "execution_count": null,
   "metadata": {},
   "outputs": [],
   "source": [
    "board"
   ]
  },
  {
   "cell_type": "code",
   "execution_count": null,
   "metadata": {},
   "outputs": [],
   "source": []
  },
  {
   "cell_type": "code",
   "execution_count": null,
   "metadata": {
    "scrolled": false
   },
   "outputs": [],
   "source": [
    "board = board.transform(chess.flip_horizontal)"
   ]
  },
  {
   "cell_type": "code",
   "execution_count": null,
   "metadata": {},
   "outputs": [],
   "source": [
    "board"
   ]
  },
  {
   "cell_type": "code",
   "execution_count": null,
   "metadata": {},
   "outputs": [],
   "source": [
    "board.mirror()"
   ]
  },
  {
   "cell_type": "code",
   "execution_count": null,
   "metadata": {},
   "outputs": [],
   "source": [
    "for m in board.legal_moves:\n",
    "    print(m)"
   ]
  },
  {
   "cell_type": "code",
   "execution_count": null,
   "metadata": {},
   "outputs": [],
   "source": [
    "legal_positions"
   ]
  },
  {
   "cell_type": "code",
   "execution_count": null,
   "metadata": {},
   "outputs": [],
   "source": []
  },
  {
   "cell_type": "code",
   "execution_count": null,
   "metadata": {},
   "outputs": [],
   "source": [
    "board.turn"
   ]
  },
  {
   "cell_type": "code",
   "execution_count": null,
   "metadata": {},
   "outputs": [],
   "source": [
    "bool (board.castling_rights & chess.BB_H1)"
   ]
  },
  {
   "cell_type": "code",
   "execution_count": null,
   "metadata": {},
   "outputs": [],
   "source": [
    "board.piece_at(0).piece_type"
   ]
  },
  {
   "cell_type": "code",
   "execution_count": null,
   "metadata": {},
   "outputs": [],
   "source": [
    "chess.A1"
   ]
  },
  {
   "cell_type": "code",
   "execution_count": null,
   "metadata": {},
   "outputs": [],
   "source": [
    "board.piece_at(5)"
   ]
  },
  {
   "cell_type": "code",
   "execution_count": null,
   "metadata": {},
   "outputs": [],
   "source": [
    "board.castling_rights"
   ]
  },
  {
   "cell_type": "code",
   "execution_count": null,
   "metadata": {},
   "outputs": [],
   "source": []
  },
  {
   "cell_type": "code",
   "execution_count": null,
   "metadata": {},
   "outputs": [],
   "source": [
    "pygame.draw.rect(WIN, BLUE, (grid[1][0].x,grid[1][0].y, WIDTH / 8, WIDTH / 8))"
   ]
  },
  {
   "cell_type": "code",
   "execution_count": null,
   "metadata": {},
   "outputs": [],
   "source": [
    "board"
   ]
  },
  {
   "cell_type": "code",
   "execution_count": null,
   "metadata": {},
   "outputs": [],
   "source": [
    "board.push_uci(\"e7e8\")"
   ]
  },
  {
   "cell_type": "code",
   "execution_count": null,
   "metadata": {},
   "outputs": [],
   "source": [
    "for move in board.legal_moves:\n",
    "    print(move)"
   ]
  },
  {
   "cell_type": "code",
   "execution_count": null,
   "metadata": {},
   "outputs": [],
   "source": [
    "board.is_checkmate()"
   ]
  },
  {
   "cell_type": "code",
   "execution_count": null,
   "metadata": {},
   "outputs": [],
   "source": [
    "list(convert.values()).index(\"a2\")"
   ]
  },
  {
   "cell_type": "code",
   "execution_count": null,
   "metadata": {},
   "outputs": [],
   "source": []
  },
  {
   "cell_type": "code",
   "execution_count": null,
   "metadata": {},
   "outputs": [],
   "source": []
  },
  {
   "cell_type": "code",
   "execution_count": null,
   "metadata": {},
   "outputs": [],
   "source": []
  },
  {
   "cell_type": "code",
   "execution_count": null,
   "metadata": {},
   "outputs": [],
   "source": []
  },
  {
   "cell_type": "code",
   "execution_count": null,
   "metadata": {},
   "outputs": [],
   "source": []
  },
  {
   "cell_type": "code",
   "execution_count": null,
   "metadata": {},
   "outputs": [],
   "source": [
    "# import pygame\n",
    "# import sys\n",
    "\n",
    "# pygame.init()\n",
    "\n",
    "# # set up the window\n",
    "# size = (800, 800)\n",
    "# screen = pygame.display.set_mode(size)\n",
    "# pygame.display.set_caption(\"Chess Game\")\n",
    "\n",
    "# # set up the board\n",
    "# board = pygame.Surface((800, 800))\n",
    "# board.fill((255, 206, 158))\n",
    "\n",
    "# # draw the board\n",
    "# for x in range(0, 8, 2):\n",
    "#     for y in range(0, 8, 2):\n",
    "#         pygame.draw.rect(board, (210, 180, 140), (x*100, y*100, 100, 100))\n",
    "#         pygame.draw.rect(board, (210, 180, 140), ((x+1)*100, (y+1)*100, 100, 100))\n",
    "\n",
    "# # add the board to the screen\n",
    "# screen.blit(board, (20, 20))\n",
    "\n",
    "# pygame.display.flip()\n",
    "\n",
    "# # main loop\n",
    "# while True:\n",
    "#     for event in pygame.event.get():\n",
    "#         if event.type == pygame.QUIT:\n",
    "#             pygame.quit()\n",
    "#             sys.exit()"
   ]
  },
  {
   "cell_type": "code",
   "execution_count": null,
   "metadata": {},
   "outputs": [],
   "source": [
    "import chess"
   ]
  },
  {
   "cell_type": "code",
   "execution_count": null,
   "metadata": {},
   "outputs": [],
   "source": [
    "board = chess.Board()"
   ]
  },
  {
   "cell_type": "code",
   "execution_count": null,
   "metadata": {},
   "outputs": [],
   "source": [
    "board"
   ]
  },
  {
   "cell_type": "code",
   "execution_count": null,
   "metadata": {},
   "outputs": [],
   "source": [
    "for move in board.legal_moves:\n",
    "    pass"
   ]
  },
  {
   "cell_type": "code",
   "execution_count": null,
   "metadata": {},
   "outputs": [],
   "source": [
    "move.uci()[2] + move.uci()[3]"
   ]
  },
  {
   "cell_type": "code",
   "execution_count": null,
   "metadata": {},
   "outputs": [],
   "source": [
    "convert2[\"a4\"]"
   ]
  },
  {
   "cell_type": "code",
   "execution_count": null,
   "metadata": {},
   "outputs": [],
   "source": []
  },
  {
   "cell_type": "code",
   "execution_count": null,
   "metadata": {},
   "outputs": [],
   "source": []
  },
  {
   "cell_type": "code",
   "execution_count": null,
   "metadata": {},
   "outputs": [],
   "source": []
  },
  {
   "cell_type": "code",
   "execution_count": null,
   "metadata": {},
   "outputs": [],
   "source": [
    "convert = {}\n",
    "alphabets = [\"a\",\"b\",\"c\",\"d\",\"e\",\"f\",\"g\",\"h\"]\n",
    "for i in range(0,8):\n",
    "    for j in range(0,8):\n",
    "        convert.update({str(j)+str(i) : alphabets[j]+str(8-i)})"
   ]
  },
  {
   "cell_type": "code",
   "execution_count": null,
   "metadata": {},
   "outputs": [],
   "source": [
    "int(str(list(convert.values()).index(move.uci()[2] + move.uci()[3]))[0])"
   ]
  },
  {
   "cell_type": "code",
   "execution_count": null,
   "metadata": {},
   "outputs": [],
   "source": []
  },
  {
   "cell_type": "code",
   "execution_count": null,
   "metadata": {},
   "outputs": [],
   "source": []
  },
  {
   "cell_type": "code",
   "execution_count": null,
   "metadata": {},
   "outputs": [],
   "source": []
  },
  {
   "cell_type": "code",
   "execution_count": null,
   "metadata": {},
   "outputs": [],
   "source": []
  },
  {
   "cell_type": "code",
   "execution_count": null,
   "metadata": {},
   "outputs": [],
   "source": [
    "board.push_uci(\"d4e5\")"
   ]
  },
  {
   "cell_type": "code",
   "execution_count": null,
   "metadata": {},
   "outputs": [],
   "source": [
    "board"
   ]
  },
  {
   "cell_type": "code",
   "execution_count": null,
   "metadata": {},
   "outputs": [],
   "source": [
    "move.uci()"
   ]
  },
  {
   "cell_type": "code",
   "execution_count": null,
   "metadata": {},
   "outputs": [],
   "source": [
    "move1.from_square"
   ]
  },
  {
   "cell_type": "code",
   "execution_count": null,
   "metadata": {},
   "outputs": [],
   "source": [
    "chess.parse_square(convert[str(0) + str(2)])"
   ]
  },
  {
   "cell_type": "code",
   "execution_count": null,
   "metadata": {},
   "outputs": [],
   "source": []
  },
  {
   "cell_type": "code",
   "execution_count": null,
   "metadata": {},
   "outputs": [],
   "source": [
    "# board = chess.Board()\n",
    "# board_array = []\n",
    "# for i in range(64):\n",
    "#     board_array.append([board.piece_at(i),7-i,i])"
   ]
  },
  {
   "cell_type": "code",
   "execution_count": null,
   "metadata": {},
   "outputs": [],
   "source": [
    "# board_array"
   ]
  },
  {
   "cell_type": "code",
   "execution_count": null,
   "metadata": {},
   "outputs": [],
   "source": [
    "board.piece_at(chess.parse_square(\"h8\"))"
   ]
  },
  {
   "cell_type": "code",
   "execution_count": null,
   "metadata": {},
   "outputs": [],
   "source": [
    "board.piece_at(chess.parse_square(convert[str(0) + str(3)]))"
   ]
  },
  {
   "cell_type": "code",
   "execution_count": null,
   "metadata": {},
   "outputs": [],
   "source": []
  },
  {
   "cell_type": "code",
   "execution_count": null,
   "metadata": {},
   "outputs": [],
   "source": [
    "convert = {}\n",
    "alphabets = [\"a\",\"b\",\"c\",\"d\",\"e\",\"f\",\"g\",\"h\"]\n",
    "for i in range(0,8):\n",
    "    for j in range(0,8):\n",
    "        convert.update({str(j)+str(i) : alphabets[j]+str(8-i)})"
   ]
  },
  {
   "cell_type": "code",
   "execution_count": null,
   "metadata": {},
   "outputs": [],
   "source": [
    "convert[\"10\"]"
   ]
  },
  {
   "cell_type": "code",
   "execution_count": null,
   "metadata": {},
   "outputs": [],
   "source": []
  },
  {
   "cell_type": "code",
   "execution_count": null,
   "metadata": {},
   "outputs": [],
   "source": [
    "pygame.image.load('.\\\\resized\\\\b_pawn.png')"
   ]
  },
  {
   "cell_type": "code",
   "execution_count": null,
   "metadata": {},
   "outputs": [],
   "source": [
    "for row in grid:\n",
    "    for spot in row:\n",
    "        pos = convert[str(spot.row)+str(spot.col)]\n",
    "        board.piece_at(chess.)\n",
    "        break\n",
    "    break"
   ]
  },
  {
   "cell_type": "code",
   "execution_count": null,
   "metadata": {},
   "outputs": [],
   "source": []
  }
 ],
 "metadata": {
  "kernelspec": {
   "display_name": "Python 3 (ipykernel)",
   "language": "python",
   "name": "python3"
  },
  "language_info": {
   "codemirror_mode": {
    "name": "ipython",
    "version": 3
   },
   "file_extension": ".py",
   "mimetype": "text/x-python",
   "name": "python",
   "nbconvert_exporter": "python",
   "pygments_lexer": "ipython3",
   "version": "3.10.9"
  }
 },
 "nbformat": 4,
 "nbformat_minor": 2
}
